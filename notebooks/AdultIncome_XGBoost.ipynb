{
 "cells": [
  {
   "cell_type": "markdown",
   "id": "1800e23b",
   "metadata": {},
   "source": [
    "# Adult Income Dataset - XGBoost Classification\n",
    "\n",
    "This notebook demonstrates training and evaluating an XGBoost classifier on the UCI Adult Income dataset. It includes data loading, preprocessing, hyperparameter tuning with cross-validation, and test set evaluation to predict whether an individual's income exceeds $50K/year."
   ]
  },
  {
   "cell_type": "code",
   "execution_count": null,
   "id": "4c6b32c5",
   "metadata": {
    "vscode": {
     "languageId": "plaintext"
    }
   },
   "outputs": [],
   "source": [
    "# Import necessary libraries for data loading, model training, and evaluation\n",
    "import numpy as np\n",
    "import pandas as pd\n",
    "from sklearn.datasets import load_svmlight_file\n",
    "from xgboost import XGBClassifier\n",
    "from sklearn.model_selection import GridSearchCV\n",
    "from sklearn.metrics import accuracy_score"
   ]
  },
  {
   "cell_type": "code",
   "execution_count": null,
   "id": "20b93f78",
   "metadata": {
    "vscode": {
     "languageId": "plaintext"
    }
   },
   "outputs": [],
   "source": [
    "# Load training and test data from LIBSVM format files\n",
    "X_train, y_train = load_svmlight_file('../data/a9a')\n",
    "X_test, y_test = load_svmlight_file('../data/a9a.t')\n",
    "\n",
    "# Convert sparse matrices to dense arrays for scikit-learn\n",
    "X_train = X_train.toarray()\n",
    "X_test = X_test.toarray()"
   ]
  },
  {
   "cell_type": "code",
   "execution_count": null,
   "id": "bb446c73",
   "metadata": {
    "vscode": {
     "languageId": "plaintext"
    }
   },
   "outputs": [],
   "source": [
    "# Define the hyperparameter grid for XGBoost\n",
    "param_grid = {\n",
    "    'max_depth': [3, 5],\n",
    "    'n_estimators': [50, 100],\n",
    "    'learning_rate': [0.1, 0.01]\n",
    "}"
   ]
  },
  {
   "cell_type": "code",
   "execution_count": null,
   "id": "12c03ddb",
   "metadata": {
    "vscode": {
     "languageId": "plaintext"
    }
   },
   "outputs": [],
   "source": [
    "# Perform grid search with 5-fold cross-validation to find the best hyperparameters\n",
    "grid_search = GridSearchCV(\n",
    "    XGBClassifier(use_label_encoder=False, eval_metric='logloss'),\n",
    "    param_grid,\n",
    "    cv=5\n",
    ")\n",
    "grid_search.fit(X_train, y_train)"
   ]
  },
  {
   "cell_type": "code",
   "execution_count": null,
   "id": "4c6d1d07",
   "metadata": {
    "vscode": {
     "languageId": "plaintext"
    }
   },
   "outputs": [],
   "source": [
    "# Display the best hyperparameters found during grid search\n",
    "print(\"Best Parameters:\", grid_search.best_params_)"
   ]
  },
  {
   "cell_type": "code",
   "execution_count": null,
   "id": "233563b9",
   "metadata": {
    "vscode": {
     "languageId": "plaintext"
    }
   },
   "outputs": [],
   "source": [
    "# Retrieve the best model and make predictions on the test set\n",
    "best_model = grid_search.best_estimator_\n",
    "y_pred = best_model.predict(X_test)"
   ]
  },
  {
   "cell_type": "code",
   "execution_count": null,
   "id": "5b601603",
   "metadata": {
    "vscode": {
     "languageId": "plaintext"
    }
   },
   "outputs": [],
   "source": [
    "# Evaluate and display the accuracy of the model on the test set\n",
    "accuracy = accuracy_score(y_test, y_pred)\n",
    "print(\"Test Set Accuracy:\", accuracy)"
   ]
  }
 ],
 "metadata": {
  "language_info": {
   "name": "python"
  }
 },
 "nbformat": 4,
 "nbformat_minor": 5
}
